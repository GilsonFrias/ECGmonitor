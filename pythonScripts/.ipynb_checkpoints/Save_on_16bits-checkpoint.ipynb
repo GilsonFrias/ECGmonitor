{
 "cells": [
  {
   "cell_type": "markdown",
   "metadata": {},
   "source": [
    "## Save ECG records on 16 bits binary representation"
   ]
  },
  {
   "cell_type": "code",
   "execution_count": 1,
   "metadata": {},
   "outputs": [],
   "source": [
    "import numpy as np\n",
    "import wfdb"
   ]
  },
  {
   "cell_type": "code",
   "execution_count": 2,
   "metadata": {},
   "outputs": [],
   "source": [
    "def packBytes(narray):\n",
    "    packed = []\n",
    "    buff = ''\n",
    "    tmp = 0\n",
    "    for n in range(len(narray)):\n",
    "        value = narray[n]\n",
    "        #Get 3 most significant bits\n",
    "        msb = bin((value >> 8) & 0xFF) \n",
    "        if len(msb)<5:\n",
    "            #pad with zeroes\n",
    "            msb = '0'*(5-len(msb))+msb[2:] \n",
    "        else:\n",
    "            msb = msb[-3:]\n",
    "        #print(\"parsed: \"+msb)\n",
    "        if n%2:\n",
    "            #Store 3 most significant bits\n",
    "            buff = buff + \"00\" + msb\n",
    "            #print(buff)\n",
    "            packed.append(int(buff, 2))\n",
    "            packed.append(value)\n",
    "        else:\n",
    "            #Store 8 less significant bits\n",
    "            packed.append(value & 0xFF) \n",
    "            #tmp = value >> (8) & 0xff\n",
    "            if(n==len(narray)-1):\n",
    "                packed.append(int(msb+\"00000\", 2))\n",
    "            buff = msb \n",
    "            #print(\"buffer without parsing: \"+bin((value >> 8) & 0xff))\n",
    "            #print(\"buffer after parsing: \"+buff)\n",
    "    return np.array(packed, dtype='uint8')"
   ]
  },
  {
   "cell_type": "code",
   "execution_count": 3,
   "metadata": {},
   "outputs": [],
   "source": [
    "#Save array to binary file\n",
    "def saveBinaryFile(file_name, darray):\n",
    "    file_name = file_name + '.txt'\n",
    "    fh = open(file_name, \"bw\")\n",
    "    darray.tofile(fh, format=\"%08b\")"
   ]
  },
  {
   "cell_type": "code",
   "execution_count": null,
   "metadata": {},
   "outputs": [],
   "source": [
    "'''\n",
    "Read ECG record data. Each sample is given in a 'int16' data type holding the corresponding decimal value \n",
    "stored on the 11 bits register of the ADC register. \n",
    "'''\n",
    "record = 201#221\n",
    "digital_record = wfdb.rdrecord(str(record), physical=False, return_res=16)\n",
    "\n",
    "#Get np array containing digital signal\n",
    "d_signal = digital_record.d_signal\n",
    "\n",
    "#Choose one of the channels \n",
    "channel = 0\n",
    "signal = d_signal[:, channel].astype('uint16')\n",
    "#signal = d_signal[:, channel]"
   ]
  },
  {
   "cell_type": "code",
   "execution_count": 5,
   "metadata": {},
   "outputs": [],
   "source": [
    "#Compress signal\n",
    "arr = packBytes(signal)"
   ]
  },
  {
   "cell_type": "code",
   "execution_count": 6,
   "metadata": {},
   "outputs": [],
   "source": [
    "#Save binary file\n",
    "saveBinaryFile(str(record)+\"C\", arr)"
   ]
  }
 ],
 "metadata": {
  "kernelspec": {
   "display_name": "Python 3",
   "language": "python",
   "name": "python3"
  },
  "language_info": {
   "codemirror_mode": {
    "name": "ipython",
    "version": 3
   },
   "file_extension": ".py",
   "mimetype": "text/x-python",
   "name": "python",
   "nbconvert_exporter": "python",
   "pygments_lexer": "ipython3",
   "version": "3.7.3"
  }
 },
 "nbformat": 4,
 "nbformat_minor": 2
}
